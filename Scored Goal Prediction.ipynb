{
 "cells": [
  {
   "cell_type": "code",
   "execution_count": 2,
   "id": "ea855520",
   "metadata": {},
   "outputs": [],
   "source": [
    "# Import libraries\n",
    "import numpy as  np \n",
    "import  pandas as  pd \n",
    "import matplotlib.pyplot as  plt\n",
    "import seaborn as sns"
   ]
  },
  {
   "cell_type": "code",
   "execution_count": 3,
   "id": "d7b00e6e",
   "metadata": {},
   "outputs": [],
   "source": [
    "#reading dataset \n",
    "df=pd.read_csv(\"D:\\\\Courses\\\\Datasets\\\\ML projct\\\\understat.com.csv\")"
   ]
  },
  {
   "cell_type": "code",
   "execution_count": 4,
   "id": "f860b4b3",
   "metadata": {},
   "outputs": [
    {
     "data": {
      "text/html": [
       "<div>\n",
       "<style scoped>\n",
       "    .dataframe tbody tr th:only-of-type {\n",
       "        vertical-align: middle;\n",
       "    }\n",
       "\n",
       "    .dataframe tbody tr th {\n",
       "        vertical-align: top;\n",
       "    }\n",
       "\n",
       "    .dataframe thead th {\n",
       "        text-align: right;\n",
       "    }\n",
       "</style>\n",
       "<table border=\"1\" class=\"dataframe\">\n",
       "  <thead>\n",
       "    <tr style=\"text-align: right;\">\n",
       "      <th></th>\n",
       "      <th>league</th>\n",
       "      <th>year</th>\n",
       "      <th>team</th>\n",
       "      <th>wins</th>\n",
       "      <th>draws</th>\n",
       "      <th>loses</th>\n",
       "      <th>pts</th>\n",
       "      <th>xG</th>\n",
       "      <th>xGA</th>\n",
       "      <th>missed</th>\n",
       "      <th>scored</th>\n",
       "    </tr>\n",
       "  </thead>\n",
       "  <tbody>\n",
       "    <tr>\n",
       "      <th>120</th>\n",
       "      <td>EPL</td>\n",
       "      <td>2014</td>\n",
       "      <td>Chelsea</td>\n",
       "      <td>26</td>\n",
       "      <td>9</td>\n",
       "      <td>3</td>\n",
       "      <td>87</td>\n",
       "      <td>68.643320</td>\n",
       "      <td>31.524344</td>\n",
       "      <td>32</td>\n",
       "      <td>73</td>\n",
       "    </tr>\n",
       "    <tr>\n",
       "      <th>121</th>\n",
       "      <td>EPL</td>\n",
       "      <td>2014</td>\n",
       "      <td>Manchester City</td>\n",
       "      <td>24</td>\n",
       "      <td>7</td>\n",
       "      <td>7</td>\n",
       "      <td>79</td>\n",
       "      <td>75.815441</td>\n",
       "      <td>40.499403</td>\n",
       "      <td>38</td>\n",
       "      <td>83</td>\n",
       "    </tr>\n",
       "    <tr>\n",
       "      <th>122</th>\n",
       "      <td>EPL</td>\n",
       "      <td>2014</td>\n",
       "      <td>Arsenal</td>\n",
       "      <td>22</td>\n",
       "      <td>9</td>\n",
       "      <td>7</td>\n",
       "      <td>75</td>\n",
       "      <td>69.802591</td>\n",
       "      <td>35.718825</td>\n",
       "      <td>36</td>\n",
       "      <td>71</td>\n",
       "    </tr>\n",
       "    <tr>\n",
       "      <th>123</th>\n",
       "      <td>EPL</td>\n",
       "      <td>2014</td>\n",
       "      <td>Manchester United</td>\n",
       "      <td>20</td>\n",
       "      <td>10</td>\n",
       "      <td>8</td>\n",
       "      <td>70</td>\n",
       "      <td>54.206860</td>\n",
       "      <td>39.842347</td>\n",
       "      <td>37</td>\n",
       "      <td>62</td>\n",
       "    </tr>\n",
       "    <tr>\n",
       "      <th>124</th>\n",
       "      <td>EPL</td>\n",
       "      <td>2014</td>\n",
       "      <td>Tottenham</td>\n",
       "      <td>19</td>\n",
       "      <td>7</td>\n",
       "      <td>12</td>\n",
       "      <td>64</td>\n",
       "      <td>52.385284</td>\n",
       "      <td>57.044148</td>\n",
       "      <td>53</td>\n",
       "      <td>58</td>\n",
       "    </tr>\n",
       "    <tr>\n",
       "      <th>...</th>\n",
       "      <td>...</td>\n",
       "      <td>...</td>\n",
       "      <td>...</td>\n",
       "      <td>...</td>\n",
       "      <td>...</td>\n",
       "      <td>...</td>\n",
       "      <td>...</td>\n",
       "      <td>...</td>\n",
       "      <td>...</td>\n",
       "      <td>...</td>\n",
       "      <td>...</td>\n",
       "    </tr>\n",
       "    <tr>\n",
       "      <th>235</th>\n",
       "      <td>EPL</td>\n",
       "      <td>2019</td>\n",
       "      <td>West Ham</td>\n",
       "      <td>10</td>\n",
       "      <td>9</td>\n",
       "      <td>19</td>\n",
       "      <td>39</td>\n",
       "      <td>49.069113</td>\n",
       "      <td>68.323322</td>\n",
       "      <td>62</td>\n",
       "      <td>49</td>\n",
       "    </tr>\n",
       "    <tr>\n",
       "      <th>236</th>\n",
       "      <td>EPL</td>\n",
       "      <td>2019</td>\n",
       "      <td>Aston Villa</td>\n",
       "      <td>9</td>\n",
       "      <td>8</td>\n",
       "      <td>21</td>\n",
       "      <td>35</td>\n",
       "      <td>45.088989</td>\n",
       "      <td>71.595382</td>\n",
       "      <td>67</td>\n",
       "      <td>41</td>\n",
       "    </tr>\n",
       "    <tr>\n",
       "      <th>237</th>\n",
       "      <td>EPL</td>\n",
       "      <td>2019</td>\n",
       "      <td>Watford</td>\n",
       "      <td>8</td>\n",
       "      <td>10</td>\n",
       "      <td>20</td>\n",
       "      <td>34</td>\n",
       "      <td>48.562637</td>\n",
       "      <td>59.528113</td>\n",
       "      <td>64</td>\n",
       "      <td>36</td>\n",
       "    </tr>\n",
       "    <tr>\n",
       "      <th>238</th>\n",
       "      <td>EPL</td>\n",
       "      <td>2019</td>\n",
       "      <td>Bournemouth</td>\n",
       "      <td>9</td>\n",
       "      <td>7</td>\n",
       "      <td>22</td>\n",
       "      <td>34</td>\n",
       "      <td>44.671045</td>\n",
       "      <td>63.294345</td>\n",
       "      <td>65</td>\n",
       "      <td>40</td>\n",
       "    </tr>\n",
       "    <tr>\n",
       "      <th>239</th>\n",
       "      <td>EPL</td>\n",
       "      <td>2019</td>\n",
       "      <td>Norwich</td>\n",
       "      <td>5</td>\n",
       "      <td>6</td>\n",
       "      <td>27</td>\n",
       "      <td>21</td>\n",
       "      <td>37.234175</td>\n",
       "      <td>71.607557</td>\n",
       "      <td>75</td>\n",
       "      <td>26</td>\n",
       "    </tr>\n",
       "  </tbody>\n",
       "</table>\n",
       "<p>120 rows × 11 columns</p>\n",
       "</div>"
      ],
      "text/plain": [
       "    league  year               team  wins  draws  loses  pts         xG  \\\n",
       "120    EPL  2014            Chelsea    26      9      3   87  68.643320   \n",
       "121    EPL  2014    Manchester City    24      7      7   79  75.815441   \n",
       "122    EPL  2014            Arsenal    22      9      7   75  69.802591   \n",
       "123    EPL  2014  Manchester United    20     10      8   70  54.206860   \n",
       "124    EPL  2014          Tottenham    19      7     12   64  52.385284   \n",
       "..     ...   ...                ...   ...    ...    ...  ...        ...   \n",
       "235    EPL  2019           West Ham    10      9     19   39  49.069113   \n",
       "236    EPL  2019        Aston Villa     9      8     21   35  45.088989   \n",
       "237    EPL  2019            Watford     8     10     20   34  48.562637   \n",
       "238    EPL  2019        Bournemouth     9      7     22   34  44.671045   \n",
       "239    EPL  2019            Norwich     5      6     27   21  37.234175   \n",
       "\n",
       "           xGA  missed  scored  \n",
       "120  31.524344      32      73  \n",
       "121  40.499403      38      83  \n",
       "122  35.718825      36      71  \n",
       "123  39.842347      37      62  \n",
       "124  57.044148      53      58  \n",
       "..         ...     ...     ...  \n",
       "235  68.323322      62      49  \n",
       "236  71.595382      67      41  \n",
       "237  59.528113      64      36  \n",
       "238  63.294345      65      40  \n",
       "239  71.607557      75      26  \n",
       "\n",
       "[120 rows x 11 columns]"
      ]
     },
     "execution_count": 4,
     "metadata": {},
     "output_type": "execute_result"
    }
   ],
   "source": [
    "#data cleaning and data manipulation choosing features\n",
    "df=df[['league','year','team','wins','draws','loses','pts','xG', 'xGA','missed','scored']]\n",
    "EPL=df.loc[df['league']=='EPL',['league','year','team','wins','draws','loses','pts','xG', 'xGA','missed','scored']]\n",
    "EPL"
   ]
  },
  {
   "cell_type": "code",
   "execution_count": 5,
   "id": "eca8e8d9",
   "metadata": {},
   "outputs": [],
   "source": [
    "#visualizing data set\n",
    "from autoviz.AutoViz_Class import AutoViz_Class\n",
    "AV = AutoViz_Class()\n",
    "\n",
    "target=\"scored\"\n",
    "sep=''\n",
    "\n",
    "dft = AV.AutoViz('', sep, target, EPL)"
   ]
  },
  {
   "cell_type": "code",
   "execution_count": 6,
   "id": "a4a71c82",
   "metadata": {},
   "outputs": [],
   "source": [
    "x=EPL.iloc[:,3:-1].values\n",
    "y=EPL.iloc[:,-1].values\n"
   ]
  },
  {
   "cell_type": "code",
   "execution_count": 8,
   "id": "f504c1c9",
   "metadata": {},
   "outputs": [],
   "source": [
    "#feature_selection of the most effiecient data\n",
    "from sklearn.feature_selection import SelectPercentile\n",
    "from sklearn.feature_selection import chi2, f_classif\n",
    "feature_selection=SelectPercentile(score_func=f_classif, percentile=90)\n",
    "x_new=feature_selection.fit_transform(x,y)"
   ]
  },
  {
   "cell_type": "code",
   "execution_count": 9,
   "id": "0e627d9e",
   "metadata": {},
   "outputs": [
    {
     "name": "stdout",
     "output_type": "stream",
     "text": [
      "[ True False  True  True  True  True  True]\n"
     ]
    }
   ],
   "source": [
    "print(feature_selection.get_support())"
   ]
  },
  {
   "cell_type": "code",
   "execution_count": 10,
   "id": "ef2cb613",
   "metadata": {},
   "outputs": [
    {
     "data": {
      "text/plain": [
       "(120, 6)"
      ]
     },
     "execution_count": 10,
     "metadata": {},
     "output_type": "execute_result"
    }
   ],
   "source": [
    "x_new.shape"
   ]
  },
  {
   "cell_type": "code",
   "execution_count": 11,
   "id": "844cb576",
   "metadata": {},
   "outputs": [
    {
     "data": {
      "text/plain": [
       "LinearRegression()"
      ]
     },
     "execution_count": 11,
     "metadata": {},
     "output_type": "execute_result"
    }
   ],
   "source": [
    "#trainning the model by spliting it & importing LinearRegression model\n",
    "from sklearn.model_selection import train_test_split\n",
    "x_new_train,x_new_test,y_train,y_test=train_test_split(x_new,y,test_size=.2,random_state=0)\n",
    "from sklearn.linear_model import LinearRegression\n",
    "model=LinearRegression()\n",
    "model.fit(x_new_train,y_train)"
   ]
  },
  {
   "cell_type": "code",
   "execution_count": 12,
   "id": "078a8c44",
   "metadata": {},
   "outputs": [],
   "source": [
    "#predicting the test result\n",
    "y_pred = model.predict(x_new_test)"
   ]
  },
  {
   "cell_type": "code",
   "execution_count": 13,
   "id": "3aa54d3f",
   "metadata": {},
   "outputs": [],
   "source": [
    "#concatenate predictions and real values\n",
    "np.set_printoptions(precision=2)\n",
    "Result=np.concatenate((y_pred.reshape(len(y_pred),1), y_test.reshape(len(y_test),1)),1)\n",
    "headers=['predicated','actual']\n",
    "Result=pd.DataFrame(Result,columns=headers)\n"
   ]
  },
  {
   "cell_type": "code",
   "execution_count": 14,
   "id": "c3bad77d",
   "metadata": {},
   "outputs": [
    {
     "data": {
      "text/html": [
       "<div>\n",
       "<style scoped>\n",
       "    .dataframe tbody tr th:only-of-type {\n",
       "        vertical-align: middle;\n",
       "    }\n",
       "\n",
       "    .dataframe tbody tr th {\n",
       "        vertical-align: top;\n",
       "    }\n",
       "\n",
       "    .dataframe thead th {\n",
       "        text-align: right;\n",
       "    }\n",
       "</style>\n",
       "<table border=\"1\" class=\"dataframe\">\n",
       "  <thead>\n",
       "    <tr style=\"text-align: right;\">\n",
       "      <th></th>\n",
       "      <th>predicated</th>\n",
       "      <th>actual</th>\n",
       "    </tr>\n",
       "  </thead>\n",
       "  <tbody>\n",
       "    <tr>\n",
       "      <th>0</th>\n",
       "      <td>46.005025</td>\n",
       "      <td>41.0</td>\n",
       "    </tr>\n",
       "    <tr>\n",
       "      <th>1</th>\n",
       "      <td>45.167716</td>\n",
       "      <td>45.0</td>\n",
       "    </tr>\n",
       "    <tr>\n",
       "      <th>2</th>\n",
       "      <td>46.693423</td>\n",
       "      <td>45.0</td>\n",
       "    </tr>\n",
       "    <tr>\n",
       "      <th>3</th>\n",
       "      <td>47.973221</td>\n",
       "      <td>48.0</td>\n",
       "    </tr>\n",
       "    <tr>\n",
       "      <th>4</th>\n",
       "      <td>39.687031</td>\n",
       "      <td>34.0</td>\n",
       "    </tr>\n",
       "    <tr>\n",
       "      <th>5</th>\n",
       "      <td>65.367187</td>\n",
       "      <td>69.0</td>\n",
       "    </tr>\n",
       "    <tr>\n",
       "      <th>6</th>\n",
       "      <td>47.318258</td>\n",
       "      <td>46.0</td>\n",
       "    </tr>\n",
       "    <tr>\n",
       "      <th>7</th>\n",
       "      <td>43.910849</td>\n",
       "      <td>44.0</td>\n",
       "    </tr>\n",
       "    <tr>\n",
       "      <th>8</th>\n",
       "      <td>59.530200</td>\n",
       "      <td>54.0</td>\n",
       "    </tr>\n",
       "    <tr>\n",
       "      <th>9</th>\n",
       "      <td>51.040684</td>\n",
       "      <td>51.0</td>\n",
       "    </tr>\n",
       "  </tbody>\n",
       "</table>\n",
       "</div>"
      ],
      "text/plain": [
       "   predicated  actual\n",
       "0   46.005025    41.0\n",
       "1   45.167716    45.0\n",
       "2   46.693423    45.0\n",
       "3   47.973221    48.0\n",
       "4   39.687031    34.0\n",
       "5   65.367187    69.0\n",
       "6   47.318258    46.0\n",
       "7   43.910849    44.0\n",
       "8   59.530200    54.0\n",
       "9   51.040684    51.0"
      ]
     },
     "execution_count": 14,
     "metadata": {},
     "output_type": "execute_result"
    }
   ],
   "source": [
    "Result.head(10)"
   ]
  },
  {
   "cell_type": "code",
   "execution_count": 15,
   "id": "c3dfc76a",
   "metadata": {},
   "outputs": [
    {
     "name": "stdout",
     "output_type": "stream",
     "text": [
      "The Model accurcay on test data = 0.9560340870199123\n"
     ]
    }
   ],
   "source": [
    "print(\"The Model accurcay on test data =\",model.score(x_new_test,y_test))"
   ]
  }
 ],
 "metadata": {
  "kernelspec": {
   "display_name": "Python 3",
   "language": "python",
   "name": "python3"
  },
  "language_info": {
   "codemirror_mode": {
    "name": "ipython",
    "version": 3
   },
   "file_extension": ".py",
   "mimetype": "text/x-python",
   "name": "python",
   "nbconvert_exporter": "python",
   "pygments_lexer": "ipython3",
   "version": "3.8.8"
  }
 },
 "nbformat": 4,
 "nbformat_minor": 5
}
